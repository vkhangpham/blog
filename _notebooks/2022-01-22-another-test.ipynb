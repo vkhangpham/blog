{
 "cells": [
  {
   "cell_type": "markdown",
   "id": "5bc8de12-6db0-4d2d-a972-74e613f5a13d",
   "metadata": {},
   "source": [
    "<center><i>Name: Pham Vinh Khang</i></center>\n",
    "\n",
    "<center><i>Student's ID: 19126007</i></center>"
   ]
  },
  {
   "cell_type": "markdown",
   "id": "b1a04946-1726-42f8-8fe0-7f85e1354e2d",
   "metadata": {},
   "source": [
    "# Define the data\n",
    "The data includes the following:\n",
    "\n",
    "- `weights`: A vector containing the weights of the items.\n",
    "\n",
    "- `values`: A vector containing the values of the items.\n",
    "\n",
    "- `capacity`: The capacity of the knapsack."
   ]
  },
  {
   "cell_type": "code",
   "execution_count": 1,
   "id": "1bb8cb67-4340-4c6a-9bce-ce170f74c02f",
   "metadata": {},
   "outputs": [],
   "source": [
    "import numpy as np\n",
    "\n",
    "values = np.random.randint(low=10, high=1000, size=10)\n",
    "weights = np.random.randint(low=1, high=25, size=10)\n",
    "capacity = np.random.randint(25, 50) + np.min(weights)"
   ]
  },
  {
   "cell_type": "code",
   "execution_count": 2,
   "id": "58cb7a5d-ee3a-4ac5-8c2f-f7cab201cdea",
   "metadata": {},
   "outputs": [
    {
     "data": {
      "text/plain": [
       "array([486, 362, 990, 573,  50,  82, 419, 712, 774, 706])"
      ]
     },
     "execution_count": 2,
     "metadata": {},
     "output_type": "execute_result"
    }
   ],
   "source": [
    "values"
   ]
  },
  {
   "cell_type": "code",
   "execution_count": 3,
   "id": "1ff4b8ca-33d0-4029-bbfe-340e6375ff95",
   "metadata": {},
   "outputs": [
    {
     "data": {
      "text/plain": [
       "array([ 8,  4,  6, 22, 13,  3, 11, 15, 13, 23])"
      ]
     },
     "execution_count": 3,
     "metadata": {},
     "output_type": "execute_result"
    }
   ],
   "source": [
    "weights"
   ]
  },
  {
   "cell_type": "code",
   "execution_count": 4,
   "id": "0a764cba-bf3c-47d0-91c0-4960584b4276",
   "metadata": {},
   "outputs": [
    {
     "data": {
      "text/plain": [
       "44"
      ]
     },
     "execution_count": 4,
     "metadata": {},
     "output_type": "execute_result"
    }
   ],
   "source": [
    "capacity"
   ]
  },
  {
   "cell_type": "markdown",
   "id": "68e7e360-51bc-4cee-848c-f8fb1f5232c7",
   "metadata": {},
   "source": [
    "# Naive Greedy Approach\n",
    "By picking the most valuable items at each pass, we can have a fairly good (albeit not optimal)\n",
    "solution for the problem.\n",
    "\n",
    "Time complexity: $O(n^2)$ with $n$ is the number of items."
   ]
  },
  {
   "cell_type": "code",
   "execution_count": 5,
   "id": "a255c8bf-e9dc-446c-8567-edb756e881bf",
   "metadata": {},
   "outputs": [],
   "source": [
    "def naive_greedy(values, weights, capacity):\n",
    "    \"\"\"Solve the knapsack problem by a naive greedy approach.\"\"\"\n",
    "    \n",
    "    knapsack = []\n",
    "    remaining = capacity\n",
    "    arg_values = np.argsort(values)\n",
    "    \n",
    "    for ind in arg_values[::-1]:\n",
    "        if remaining <= 0:\n",
    "            break\n",
    "        if remaining > weights[ind]:\n",
    "            knapsack.append((values[ind], weights[ind]))\n",
    "            remaining -= weights[ind]\n",
    "    return knapsack"
   ]
  },
  {
   "cell_type": "code",
   "execution_count": 6,
   "id": "39dc3ffa-fee0-41b5-a1b5-12f140df7b52",
   "metadata": {},
   "outputs": [
    {
     "name": "stdout",
     "output_type": "stream",
     "text": [
      "Knapsack: [(990, 6), (774, 13), (712, 15), (486, 8)]\n",
      "Total value: 2962\n",
      "Total weight: 42\n"
     ]
    }
   ],
   "source": [
    "knapsack_1 = naive_greedy(values, weights, capacity)\n",
    "\n",
    "print(f'Knapsack: {knapsack_1}')\n",
    "print(f'Total value: {sum(value for value, _ in knapsack_1)}')\n",
    "print(f'Total weight: {sum(weight for _, weight in knapsack_1)}')"
   ]
  },
  {
   "cell_type": "markdown",
   "id": "a18614e6-faaf-4f98-8fa9-524598ecb2d9",
   "metadata": {},
   "source": [
    "# Dynamic Programmming\n",
    "Let's define the solution as following:\n",
    "\n",
    "1. We build a matrix `dp` whose column represents \n",
    "    each number from **min item weight** to total **capacity**\n",
    "    and each row stands for each item.\n",
    "    \n",
    "2. The value of each cell `dp[i, j]` indicates the max value \n",
    "    that fits in the sub-knapsack with capacity `j+1`\n",
    "    while considering all items from 1 to `i`.\n",
    "    \n",
    "3. Rule to fill in the cell:\n",
    "\n",
    "    | ![](images/knapsack-dp.png) |\n",
    "    |:--:|\n",
    "    | *Grokking Algorithms* (170), by Aditya. Bhargava, 2016. |\n",
    "\n",
    "4. The max value possible is the value of the bottom-right cell."
   ]
  },
  {
   "cell_type": "code",
   "execution_count": 7,
   "id": "478e3a9c-bbb9-4913-8800-aef972c99541",
   "metadata": {},
   "outputs": [],
   "source": [
    "def knapsack_dp(values, weights, capacity):\n",
    "    \"\"\"Solve the knapsack problem using dynamic programming.\"\"\"\n",
    "    \n",
    "    # Initialize the dp matrix\n",
    "    # shape: len(values)+1, capacity+1\n",
    "    # since we need to align the rows with the cols\n",
    "    dp = np.zeros((len(values)+1, capacity+1), dtype=np.int32)\n",
    "    \n",
    "    for i in range(dp.shape[0]):\n",
    "        for j in range(dp.shape[1]):\n",
    "            if i*j == 0:\n",
    "                continue  # skip if on the margin.\n",
    "            \n",
    "            # prev_max: previous max\n",
    "            # cur_val: current value\n",
    "            # remaining: value of remaining space\n",
    "            # candidate: candidate value to update knapsack\n",
    "            prev_max = dp[i-1, j]\n",
    "            cur_val = values[i-1]\n",
    "            remaining = dp[i-1, j-weights[i-1]]\n",
    "            candidate = cur_val + remaining\n",
    "            \n",
    "            # Only consider update if\n",
    "            # the new item fit the knapsack\n",
    "            # Otherwise just use the previous max\n",
    "            if weights[i-1] <= j:\n",
    "                dp[i, j] = max(candidate, prev_max)\n",
    "            else:\n",
    "                dp[i, j] = dp[i-1, j]\n",
    "                \n",
    "    return dp[-1, -1]"
   ]
  },
  {
   "cell_type": "code",
   "execution_count": 8,
   "id": "7e352f08-eef7-40f3-a965-66c16a6e9bce",
   "metadata": {},
   "outputs": [
    {
     "name": "stdout",
     "output_type": "stream",
     "text": [
      "Result = 3031\n"
     ]
    }
   ],
   "source": [
    "print(f'Result = {knapsack_dp(values, weights, capacity)}')"
   ]
  },
  {
   "cell_type": "markdown",
   "id": "175d42d2-5053-452b-8442-69d3f8b3b000",
   "metadata": {},
   "source": [
    "**Verify the result by using a [library](https://developers.google.com/optimization) of Google.**\n",
    "\n",
    "The solver from the library expect a slightly different input format.\n",
    "So we will need to do some funny reshape."
   ]
  },
  {
   "cell_type": "code",
   "execution_count": 9,
   "id": "f2403ab6-f435-4769-be50-632f57350350",
   "metadata": {},
   "outputs": [],
   "source": [
    "capacity = [capacity]\n",
    "weights = np.expand_dims(weights, axis=0).tolist()"
   ]
  },
  {
   "cell_type": "code",
   "execution_count": 10,
   "id": "9c964752-0f34-4a6a-853f-011c15f259a7",
   "metadata": {},
   "outputs": [],
   "source": [
    "from ortools.algorithms import pywrapknapsack_solver"
   ]
  },
  {
   "cell_type": "code",
   "execution_count": 11,
   "id": "1db922dd-85bf-4c0e-9282-a0eadb2dcbf6",
   "metadata": {},
   "outputs": [],
   "source": [
    "solver = pywrapknapsack_solver.KnapsackSolver(\n",
    "    pywrapknapsack_solver.KnapsackSolver.\n",
    "    KNAPSACK_MULTIDIMENSION_BRANCH_AND_BOUND_SOLVER, 'KnapsackExample')"
   ]
  },
  {
   "cell_type": "code",
   "execution_count": 12,
   "id": "8de26ac0-c8e4-4cac-a3f3-dd5933c37090",
   "metadata": {},
   "outputs": [
    {
     "name": "stdout",
     "output_type": "stream",
     "text": [
      "Total value = 3031\n",
      "Total weight: 42\n",
      "Packed items: [0, 1, 2, 6, 8]\n",
      "Packed_weights: [8, 4, 6, 11, 13]\n"
     ]
    }
   ],
   "source": [
    "solver.Init(values, weights, capacity)\n",
    "computed_value = solver.Solve()\n",
    "packed_items = []\n",
    "packed_weights = []\n",
    "total_weight = 0\n",
    "print('Total value =', computed_value)\n",
    "for i in range(len(values)):\n",
    "    if solver.BestSolutionContains(i):\n",
    "        packed_items.append(i)\n",
    "        packed_weights.append(weights[0][i])\n",
    "        total_weight += weights[0][i]\n",
    "print('Total weight:', total_weight)\n",
    "print('Packed items:', packed_items)\n",
    "print('Packed_weights:', packed_weights)"
   ]
  }
 ],
 "metadata": {
  "kernelspec": {
   "display_name": "Python 3 (ipykernel)",
   "language": "python",
   "name": "python3"
  },
  "language_info": {
   "codemirror_mode": {
    "name": "ipython",
    "version": 3
   },
   "file_extension": ".py",
   "mimetype": "text/x-python",
   "name": "python",
   "nbconvert_exporter": "python",
   "pygments_lexer": "ipython3",
   "version": "3.9.5"
  }
 },
 "nbformat": 4,
 "nbformat_minor": 5
}
